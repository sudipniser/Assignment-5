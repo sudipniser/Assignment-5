{
 "cells": [
  {
   "cell_type": "code",
   "execution_count": 54,
   "source": [
    "#Importing the necessary libraries\r\n",
    "import Root_find_lib as rofl\r\n",
    "import math\r\n",
    "import matplotlib.pyplot as plt"
   ],
   "outputs": [],
   "metadata": {}
  },
  {
   "cell_type": "code",
   "execution_count": 55,
   "source": [
    "'''\r\n",
    "Q1\r\n",
    "'''\r\n",
    "#Defining the function\r\n",
    "f1=lambda x: math.log(x/2)-math.sin(5*x/2) # Actual roots x ≈ 1.40192993161461... , 2.62314033543631...\r\n",
    "#Solving the problem\r\n",
    "print('A suitable bracket is determined as',rofl.bracket(f1,1.6,2.4,0.1))\r\n",
    "i_b,x_ib=rofl.bisection(f1,1.6,2.6648,10**(-5),iter_data=True)\r\n",
    "i_r,x_ir=rofl.regula_falsi(f1,1.6,2.6648,10**(-5),iter_data=True)\r\n",
    "print('The root determined using Bisection method is',format(x_ib[-1],'.5f'))\r\n",
    "print('The root determined using Regula Falsi method is',format(x_ir[-1],'.5f'))\r\n",
    "#Sorting out the data for plotting and tabulation\r\n",
    "conv_bi=[x_ib[j]-x_ib[j-1] for j in range(1,len(x_ib))]\r\n",
    "conv_rf=[x_ir[j]-x_ir[j-1] for j in range(1,len(x_ir))]\r\n",
    "fx_ib=[f1(j) for j in x_ib]\r\n",
    "fx_ir=[f1(j) for j in x_ir]\r\n",
    "ax=plt.axes()\r\n",
    "ax.plot(i_b,fx_ib,'-o',label='Bisection Method')\r\n",
    "ax.plot(i_r,fx_ir,'-o',label='Regula Falsi Method')\r\n",
    "ax.legend()\r\n",
    "ax.set_xlabel('$i$')\r\n",
    "ax.set_ylabel('$f(x_i)$')\r\n",
    "ax.set_title('Function Value versus Iteration Number')\r\n",
    "plt.show()"
   ],
   "outputs": [
    {
     "output_type": "stream",
     "name": "stdout",
     "text": [
      "A suitable bracket is determined as (1.6, 2.6648)\n",
      "The root determined using Bisection method is 2.62313\n",
      "The root determined using Regula Falsi method is 2.62314\n"
     ]
    },
    {
     "output_type": "display_data",
     "data": {
      "image/png": "[encoded data removed]",
      "text/plain": [
       "<Figure size 432x288 with 1 Axes>"
      ]
     },
     "metadata": {
      "needs_background": "light"
     }
    }
   ],
   "metadata": {}
  },
  {
   "cell_type": "code",
   "execution_count": 56,
   "source": [
    "print('Iteration number|Convergence(x_i-x_i-1) in Bisection Method')\r\n",
    "print('-------------------------------')\r\n",
    "i=1\r\n",
    "for j in conv_bi:\r\n",
    "    print(str(i)+'               |'+str(j))\r\n",
    "    i+=1"
   ],
   "outputs": [
    {
     "output_type": "stream",
     "name": "stdout",
     "text": [
      "Iteration number|Convergence(x_i-x_i-1) in Bisection Method\n",
      "-------------------------------\n",
      "1               |0.2662\n",
      "2               |0.13309999999999977\n",
      "3               |0.06655000000000033\n",
      "4               |0.03327499999999972\n",
      "5               |-0.01663749999999986\n",
      "6               |0.00831874999999993\n",
      "7               |-0.004159374999999965\n",
      "8               |0.0020796874999997605\n",
      "9               |0.0010398437500001023\n",
      "10               |0.0005199218750000512\n",
      "11               |0.0002599609375000256\n",
      "12               |0.0001299804687500128\n",
      "13               |6.49902343750064e-05\n",
      "14               |-3.249511718772524e-05\n",
      "15               |1.6247558593640576e-05\n"
     ]
    }
   ],
   "metadata": {}
  },
  {
   "cell_type": "code",
   "execution_count": 57,
   "source": [
    "print('Iteration number|Convergence(x_i-x_i-1) in Regula Falsi Method')\r\n",
    "print('-------------------------------')\r\n",
    "i=1\r\n",
    "for j in conv_rf:\r\n",
    "    print(str(i)+'               |'+str(j))\r\n",
    "    i+=1"
   ],
   "outputs": [
    {
     "output_type": "stream",
     "name": "stdout",
     "text": [
      "Iteration number|Convergence(x_i-x_i-1) in Regula Falsi Method\n",
      "-------------------------------\n",
      "1               |0.10269494797712175\n",
      "2               |-0.001246809218292011\n",
      "3               |-3.1567030491341797e-05\n",
      "4               |-7.939201034368182e-07\n"
     ]
    }
   ],
   "metadata": {}
  },
  {
   "cell_type": "code",
   "execution_count": 58,
   "source": [
    "'''\r\n",
    "Q2\r\n",
    "'''\r\n",
    "#Defining the function\r\n",
    "f2=lambda x:-x-math.cos(x)                 # Actual root  x ≈ -0.73908513321516064166\r\n",
    "#Solving the problem\r\n",
    "print('Initial guess bracket is '+str((-1,1)))\r\n",
    "print('A suitable bracket is determined as '+str(rofl.bracket(f2,-1,1,0.1)))\r\n",
    "i_b,x_ib=rofl.bisection(f2,-1,1,10**(-5),iter_data=True)\r\n",
    "i_r,x_ir=rofl.regula_falsi(f2,-1,1,10**(-5),iter_data=True)\r\n",
    "i_n,x_in=rofl.newton_raphson(f2,0,10**(-5),iter_data=True)\r\n",
    "print('The root determined using Bisection method is',format(x_ib[-1],'.5f'))\r\n",
    "print('The root determined using Regula Falsi method is',format(x_ir[-1],'.5f'))\r\n",
    "print('The root determined using Newton Raphson method is',format(x_in[-1],'.5f'))\r\n",
    "#Sorting out the data for plotting and tabulation\r\n",
    "conv_bi=[x_ib[j]-x_ib[j-1] for j in range(1,len(x_ib))]\r\n",
    "conv_rf=[x_ir[j]-x_ir[j-1] for j in range(1,len(x_ir))]\r\n",
    "conv_nr=[x_in[j]-x_in[j-1] for j in range(1,len(x_in))]\r\n",
    "fx_ib=[f2(j) for j in x_ib]\r\n",
    "fx_ir=[f2(j) for j in x_ir]\r\n",
    "fx_in=[f2(j) for j in x_in]\r\n",
    "ax=plt.axes()\r\n",
    "ax.plot(i_b,fx_ib,'-o',label='Bisection Method')\r\n",
    "ax.plot(i_r,fx_ir,'-o',label='Regula Falsi Method')\r\n",
    "ax.plot(i_n,fx_in,'-o',label='Newton Raphson Method')\r\n",
    "ax.legend()\r\n",
    "ax.set_xlabel('$i$')                        #-0.73908513321516064166\r\n",
    "ax.set_ylabel('$f(x_i)$')\r\n",
    "ax.set_title('Function Value versus Iteration Number')\r\n",
    "plt.show()"
   ],
   "outputs": [
    {
     "output_type": "stream",
     "name": "stdout",
     "text": [
      "Initial guess bracket is (-1, 1)\n",
      "A suitable bracket is determined as (-1, 1)\n",
      "The root determined using Bisection method is -0.73909\n",
      "The root determined using Regula Falsi method is -0.73909\n",
      "The root determined using Newton Raphson method is -0.73909\n"
     ]
    },
    {
     "output_type": "display_data",
     "data": {
      "image/png": "[encoded data removed]",
      "text/plain": [
       "<Figure size 432x288 with 1 Axes>"
      ]
     },
     "metadata": {
      "needs_background": "light"
     }
    }
   ],
   "metadata": {}
  },
  {
   "cell_type": "code",
   "execution_count": 59,
   "source": [
    "print('Iteration number|Convergence(x_i-x_i-1) in Bisection Method')\r\n",
    "print('-------------------------------')\r\n",
    "i=1\r\n",
    "for j in conv_bi:\r\n",
    "    print(str(i)+'               |'+str(j))\r\n",
    "    i+=1"
   ],
   "outputs": [
    {
     "output_type": "stream",
     "name": "stdout",
     "text": [
      "Iteration number|Convergence(x_i-x_i-1) in Bisection Method\n",
      "-------------------------------\n",
      "1               |-0.5\n",
      "2               |-0.25\n",
      "3               |0.125\n",
      "4               |-0.0625\n",
      "5               |-0.03125\n",
      "6               |-0.015625\n",
      "7               |-0.0078125\n",
      "8               |0.00390625\n",
      "9               |-0.001953125\n",
      "10               |0.0009765625\n",
      "11               |0.00048828125\n",
      "12               |-0.000244140625\n",
      "13               |-0.0001220703125\n",
      "14               |6.103515625e-05\n",
      "15               |-3.0517578125e-05\n",
      "16               |1.52587890625e-05\n"
     ]
    }
   ],
   "metadata": {}
  },
  {
   "cell_type": "code",
   "execution_count": 64,
   "source": [
    "print('Iteration number|Convergence(x_i-x_i-1) in Regula Falsi Method')\r\n",
    "print('-------------------------------')\r\n",
    "i=1\r\n",
    "for j in conv_rf:\r\n",
    "    print(str(i)+'               |'+str(j))\r\n",
    "    i+=1"
   ],
   "outputs": [
    {
     "output_type": "stream",
     "name": "stdout",
     "text": [
      "Iteration number|Convergence(x_i-x_i-1) in Regula Falsi Method\n",
      "-------------------------------\n",
      "1               |-0.18770805559947734\n",
      "2               |-0.010516644774782646\n",
      "3               |-0.0005301604358678436\n",
      "4               |-2.656560004599129e-05\n",
      "5               |-1.3307602797496543e-06\n"
     ]
    }
   ],
   "metadata": {}
  },
  {
   "cell_type": "code",
   "execution_count": 63,
   "source": [
    "print('Iteration number|Convergence(x_i-x_i-1) in Newton Raphson Method')\r\n",
    "print('-------------------------------')\r\n",
    "i=1\r\n",
    "for j in conv_nr:\r\n",
    "    print(str(i)+'               |'+str(j))\r\n",
    "    i+=1"
   ],
   "outputs": [
    {
     "output_type": "stream",
     "name": "stdout",
     "text": [
      "Iteration number|Convergence(x_i-x_i-1) in Newton Raphson Method\n",
      "-------------------------------\n",
      "1               |-0.7503638488666675\n",
      "2               |0.011250958808399214\n",
      "3               |2.7756674856771468e-05\n",
      "4               |1.682509687128686e-10\n"
     ]
    }
   ],
   "metadata": {}
  },
  {
   "cell_type": "code",
   "execution_count": 62,
   "source": [
    "'''\r\n",
    "Q3:\r\n",
    "'''\r\n",
    "f3=[1,0,-5,0,4]                            # Actual roots x = 2,1,-1,-2\r\n",
    "print('roots of the polynomial given by the above coefficient list are',\r\n",
    "    [format(i,'.5f') for i in rofl.LaguerreSolve(f3,4,5,10**(-5)) ])"
   ],
   "outputs": [
    {
     "output_type": "stream",
     "name": "stdout",
     "text": [
      "roots of the polynomial given by the above coefficient list are ['2.00000', '1.00000', '-1.00000', '-2.00000']\n"
     ]
    }
   ],
   "metadata": {}
  }
 ],
 "metadata": {
  "orig_nbformat": 4,
  "language_info": {
   "name": "python",
   "version": "3.8.3",
   "mimetype": "text/x-python",
   "codemirror_mode": {
    "name": "ipython",
    "version": 3
   },
   "pygments_lexer": "ipython3",
   "nbconvert_exporter": "python",
   "file_extension": ".py"
  },
  "kernelspec": {
   "name": "python3",
   "display_name": "Python 3.8.3 64-bit"
  },
  "interpreter": {
   "hash": "2db524e06e9f5f4ffedc911c917cb75e12dbc923643829bf417064a77eb14d37"
  }
 },
 "nbformat": 4,
 "nbformat_minor": 2
}